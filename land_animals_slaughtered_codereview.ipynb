{
 "cells": [
  {
   "cell_type": "code",
   "execution_count": 28,
   "id": "2f2fc60c",
   "metadata": {},
   "outputs": [],
   "source": [
    "import pandas as pd\n",
    "import matplotlib.pyplot as plt"
   ]
  },
  {
   "cell_type": "code",
   "execution_count": 29,
   "id": "0aa5890d",
   "metadata": {
    "scrolled": false
   },
   "outputs": [
    {
     "data": {
      "text/html": [
       "<div>\n",
       "<style scoped>\n",
       "    .dataframe tbody tr th:only-of-type {\n",
       "        vertical-align: middle;\n",
       "    }\n",
       "\n",
       "    .dataframe tbody tr th {\n",
       "        vertical-align: top;\n",
       "    }\n",
       "\n",
       "    .dataframe thead th {\n",
       "        text-align: right;\n",
       "    }\n",
       "</style>\n",
       "<table border=\"1\" class=\"dataframe\">\n",
       "  <thead>\n",
       "    <tr style=\"text-align: right;\">\n",
       "      <th></th>\n",
       "      <th>Entity</th>\n",
       "      <th>Code</th>\n",
       "      <th>Year</th>\n",
       "      <th>Number of chickens slaughtered to produce meat</th>\n",
       "      <th>Number of ducks slaughtered to produce meat</th>\n",
       "      <th>Number of pigs slaughtered to produce meat</th>\n",
       "      <th>Number of geese slaughtered to produce meat</th>\n",
       "      <th>Number of sheep slaughtered to produce meat</th>\n",
       "      <th>Number of rabbits slaughtered to produce meat</th>\n",
       "      <th>Number of turkeys slaughtered to produce meat</th>\n",
       "      <th>Number of goats slaughtered to produce meat</th>\n",
       "      <th>Number of cattle slaughtered to produce meat</th>\n",
       "      <th>Number of other animals slaughtered to produce meat</th>\n",
       "    </tr>\n",
       "  </thead>\n",
       "  <tbody>\n",
       "    <tr>\n",
       "      <th>0</th>\n",
       "      <td>Afghanistan</td>\n",
       "      <td>AFG</td>\n",
       "      <td>1961</td>\n",
       "      <td>7000000.0</td>\n",
       "      <td>NaN</td>\n",
       "      <td>NaN</td>\n",
       "      <td>NaN</td>\n",
       "      <td>4336000.0</td>\n",
       "      <td>NaN</td>\n",
       "      <td>NaN</td>\n",
       "      <td>940000.0</td>\n",
       "      <td>360000.0</td>\n",
       "      <td>20000</td>\n",
       "    </tr>\n",
       "    <tr>\n",
       "      <th>1</th>\n",
       "      <td>Afghanistan</td>\n",
       "      <td>AFG</td>\n",
       "      <td>1962</td>\n",
       "      <td>7500000.0</td>\n",
       "      <td>NaN</td>\n",
       "      <td>NaN</td>\n",
       "      <td>NaN</td>\n",
       "      <td>4355000.0</td>\n",
       "      <td>NaN</td>\n",
       "      <td>NaN</td>\n",
       "      <td>875000.0</td>\n",
       "      <td>384000.0</td>\n",
       "      <td>22393</td>\n",
       "    </tr>\n",
       "    <tr>\n",
       "      <th>2</th>\n",
       "      <td>Afghanistan</td>\n",
       "      <td>AFG</td>\n",
       "      <td>1963</td>\n",
       "      <td>7700000.0</td>\n",
       "      <td>NaN</td>\n",
       "      <td>NaN</td>\n",
       "      <td>NaN</td>\n",
       "      <td>4673000.0</td>\n",
       "      <td>NaN</td>\n",
       "      <td>NaN</td>\n",
       "      <td>810000.0</td>\n",
       "      <td>396000.0</td>\n",
       "      <td>27952</td>\n",
       "    </tr>\n",
       "    <tr>\n",
       "      <th>3</th>\n",
       "      <td>Afghanistan</td>\n",
       "      <td>AFG</td>\n",
       "      <td>1964</td>\n",
       "      <td>8000000.0</td>\n",
       "      <td>NaN</td>\n",
       "      <td>NaN</td>\n",
       "      <td>NaN</td>\n",
       "      <td>5010000.0</td>\n",
       "      <td>NaN</td>\n",
       "      <td>NaN</td>\n",
       "      <td>750000.0</td>\n",
       "      <td>402000.0</td>\n",
       "      <td>26000</td>\n",
       "    </tr>\n",
       "    <tr>\n",
       "      <th>4</th>\n",
       "      <td>Afghanistan</td>\n",
       "      <td>AFG</td>\n",
       "      <td>1965</td>\n",
       "      <td>8500000.0</td>\n",
       "      <td>NaN</td>\n",
       "      <td>NaN</td>\n",
       "      <td>NaN</td>\n",
       "      <td>5179000.0</td>\n",
       "      <td>NaN</td>\n",
       "      <td>NaN</td>\n",
       "      <td>875000.0</td>\n",
       "      <td>408000.0</td>\n",
       "      <td>24000</td>\n",
       "    </tr>\n",
       "  </tbody>\n",
       "</table>\n",
       "</div>"
      ],
      "text/plain": [
       "        Entity Code  Year  Number of chickens slaughtered to produce meat  \\\n",
       "0  Afghanistan  AFG  1961                                       7000000.0   \n",
       "1  Afghanistan  AFG  1962                                       7500000.0   \n",
       "2  Afghanistan  AFG  1963                                       7700000.0   \n",
       "3  Afghanistan  AFG  1964                                       8000000.0   \n",
       "4  Afghanistan  AFG  1965                                       8500000.0   \n",
       "\n",
       "   Number of ducks slaughtered to produce meat  \\\n",
       "0                                          NaN   \n",
       "1                                          NaN   \n",
       "2                                          NaN   \n",
       "3                                          NaN   \n",
       "4                                          NaN   \n",
       "\n",
       "   Number of pigs slaughtered to produce meat  \\\n",
       "0                                         NaN   \n",
       "1                                         NaN   \n",
       "2                                         NaN   \n",
       "3                                         NaN   \n",
       "4                                         NaN   \n",
       "\n",
       "   Number of geese slaughtered to produce meat  \\\n",
       "0                                          NaN   \n",
       "1                                          NaN   \n",
       "2                                          NaN   \n",
       "3                                          NaN   \n",
       "4                                          NaN   \n",
       "\n",
       "   Number of sheep slaughtered to produce meat  \\\n",
       "0                                    4336000.0   \n",
       "1                                    4355000.0   \n",
       "2                                    4673000.0   \n",
       "3                                    5010000.0   \n",
       "4                                    5179000.0   \n",
       "\n",
       "   Number of rabbits slaughtered to produce meat  \\\n",
       "0                                            NaN   \n",
       "1                                            NaN   \n",
       "2                                            NaN   \n",
       "3                                            NaN   \n",
       "4                                            NaN   \n",
       "\n",
       "   Number of turkeys slaughtered to produce meat  \\\n",
       "0                                            NaN   \n",
       "1                                            NaN   \n",
       "2                                            NaN   \n",
       "3                                            NaN   \n",
       "4                                            NaN   \n",
       "\n",
       "   Number of goats slaughtered to produce meat  \\\n",
       "0                                     940000.0   \n",
       "1                                     875000.0   \n",
       "2                                     810000.0   \n",
       "3                                     750000.0   \n",
       "4                                     875000.0   \n",
       "\n",
       "   Number of cattle slaughtered to produce meat  \\\n",
       "0                                      360000.0   \n",
       "1                                      384000.0   \n",
       "2                                      396000.0   \n",
       "3                                      402000.0   \n",
       "4                                      408000.0   \n",
       "\n",
       "   Number of other animals slaughtered to produce meat  \n",
       "0                                              20000    \n",
       "1                                              22393    \n",
       "2                                              27952    \n",
       "3                                              26000    \n",
       "4                                              24000    "
      ]
     },
     "execution_count": 29,
     "metadata": {},
     "output_type": "execute_result"
    }
   ],
   "source": [
    "data = pd.read_csv(\"C:/Users/HP/Documents/land-animals-slaughtered-for-meat.csv\")\n",
    "data.head()"
   ]
  },
  {
   "cell_type": "code",
   "execution_count": 30,
   "id": "2b3efce3",
   "metadata": {},
   "outputs": [
    {
     "data": {
      "text/plain": [
       "13671811311000.0"
      ]
     },
     "execution_count": 30,
     "metadata": {},
     "output_type": "execute_result"
    }
   ],
   "source": [
    "Number_of_chickens_slaughtered_to_produce_meat = data['Number of chickens slaughtered to produce meat'].sum()\n",
    "Number_of_ducks_slaughtered_to_produce_meat = data['Number of ducks slaughtered to produce meat'].sum()\n",
    "Number_of_pigs_slaughtered_to_produce_meat = data['Number of pigs slaughtered to produce meat'].sum()\n",
    "Number_of_geese_slaughtered_to_produce_meat = data['Number of geese slaughtered to produce meat'].sum()\n",
    "Number_of_sheep_slaughtered_to_produce_meat = data['Number of sheep slaughtered to produce meat'].sum()\n",
    "Number_of_rabbits_slaughtered_to_produce_meat = data['Number of rabbits slaughtered to produce meat'].sum()\n",
    "Number_of_turkeys_slaughtered_to_produce_meat = data['Number of turkeys slaughtered to produce meat'].sum()\n",
    "Number_of_goats_slaughtered_to_produce_meat = data['Number of goats slaughtered to produce meat'].sum()\n",
    "Number_of_cattle_slaughtered_to_produce_meat = data['Number of cattle slaughtered to produce meat'].sum()\n",
    "Number_of_other_animals_slaughtered_to_produce_meat = data['Number of other animals slaughtered to produce meat'].sum()\n",
    "Number_of_chickens_slaughtered_to_produce_meat\n",
    " \n"
   ]
  },
  {
   "cell_type": "code",
   "execution_count": 31,
   "id": "156e8274",
   "metadata": {},
   "outputs": [
    {
     "data": {
      "text/plain": [
       "605222929000.0"
      ]
     },
     "execution_count": 31,
     "metadata": {},
     "output_type": "execute_result"
    }
   ],
   "source": [
    "Number_of_ducks_slaughtered_to_produce_meat"
   ]
  },
  {
   "cell_type": "code",
   "execution_count": 32,
   "id": "eaa7e9ef",
   "metadata": {},
   "outputs": [
    {
     "data": {
      "text/plain": [
       "404602546667.0"
      ]
     },
     "execution_count": 32,
     "metadata": {},
     "output_type": "execute_result"
    }
   ],
   "source": [
    "Number_of_pigs_slaughtered_to_produce_meat"
   ]
  },
  {
   "cell_type": "code",
   "execution_count": 33,
   "id": "cb4ba1d3",
   "metadata": {},
   "outputs": [
    {
     "data": {
      "text/plain": [
       "140716176000.0"
      ]
     },
     "execution_count": 33,
     "metadata": {},
     "output_type": "execute_result"
    }
   ],
   "source": [
    "Number_of_geese_slaughtered_to_produce_meat"
   ]
  },
  {
   "cell_type": "code",
   "execution_count": 34,
   "id": "1e433d99",
   "metadata": {},
   "outputs": [
    {
     "data": {
      "text/plain": [
       "185452029560.0"
      ]
     },
     "execution_count": 34,
     "metadata": {},
     "output_type": "execute_result"
    }
   ],
   "source": [
    "Number_of_sheep_slaughtered_to_produce_meat "
   ]
  },
  {
   "cell_type": "code",
   "execution_count": 35,
   "id": "4bf09248",
   "metadata": {},
   "outputs": [
    {
     "data": {
      "text/plain": [
       "248475249000.0"
      ]
     },
     "execution_count": 35,
     "metadata": {},
     "output_type": "execute_result"
    }
   ],
   "source": [
    "Number_of_rabbits_slaughtered_to_produce_meat"
   ]
  },
  {
   "cell_type": "code",
   "execution_count": 36,
   "id": "247577bf",
   "metadata": {},
   "outputs": [
    {
     "data": {
      "text/plain": [
       "184898304000.0"
      ]
     },
     "execution_count": 36,
     "metadata": {},
     "output_type": "execute_result"
    }
   ],
   "source": [
    "Number_of_turkeys_slaughtered_to_produce_meat"
   ]
  },
  {
   "cell_type": "code",
   "execution_count": 37,
   "id": "26163253",
   "metadata": {},
   "outputs": [
    {
     "data": {
      "text/plain": [
       "117200241641.0"
      ]
     },
     "execution_count": 37,
     "metadata": {},
     "output_type": "execute_result"
    }
   ],
   "source": [
    "Number_of_goats_slaughtered_to_produce_meat"
   ]
  },
  {
   "cell_type": "code",
   "execution_count": 38,
   "id": "3d607f82",
   "metadata": {},
   "outputs": [
    {
     "data": {
      "text/plain": [
       "102748970184.0"
      ]
     },
     "execution_count": 38,
     "metadata": {},
     "output_type": "execute_result"
    }
   ],
   "source": [
    "Number_of_cattle_slaughtered_to_produce_meat "
   ]
  },
  {
   "cell_type": "code",
   "execution_count": 39,
   "id": "e13d8e2f",
   "metadata": {},
   "outputs": [
    {
     "data": {
      "text/plain": [
       "62570470568"
      ]
     },
     "execution_count": 39,
     "metadata": {},
     "output_type": "execute_result"
    }
   ],
   "source": [
    "Number_of_other_animals_slaughtered_to_produce_meat"
   ]
  },
  {
   "cell_type": "code",
   "execution_count": 42,
   "id": "db4770b3",
   "metadata": {},
   "outputs": [],
   "source": [
    "\n",
    "\n",
    "total_data = dict()\n",
    "\n",
    "total_data['chikens'] = 136718\n",
    "total_data['ducks'] = 605223\n",
    "total_data['pigs'] = 404603\n",
    "total_data['geese'] = 140716\n",
    "total_data['sheep'] = 185452\n",
    "total_data['rsbbit'] = 248475\n",
    "total_data['turkeys'] = 184898\n",
    "total_data['gaot'] = 117200\n",
    "total_data['cattle'] = 102749\n",
    "\n",
    "\n",
    "names = total_data.keys()\n",
    "revenue = total_data.values()"
   ]
  },
  {
   "cell_type": "code",
   "execution_count": 46,
   "id": "fb080a2d",
   "metadata": {},
   "outputs": [
    {
     "data": {
      "image/png": "[encoded data removed]",
      "text/plain": [
       "<Figure size 640x480 with 1 Axes>"
      ]
     },
     "metadata": {},
     "output_type": "display_data"
    }
   ],
   "source": [
    "plt.bar (names,revenue, color = 'blue')\n",
    "plt.xlabel('names')\n",
    "plt.ylabel('revenue')\n",
    "plt.title('land animals slaughtered for meat')\n",
    "plt.show()"
   ]
  },
  {
   "cell_type": "code",
   "execution_count": 1,
   "id": "da559d0d",
   "metadata": {
    "scrolled": true
   },
   "outputs": [
    {
     "ename": "NameError",
     "evalue": "name 'data' is not defined",
     "output_type": "error",
     "traceback": [
      "\u001b[1;31m---------------------------------------------------------------------------\u001b[0m",
      "\u001b[1;31mNameError\u001b[0m                                 Traceback (most recent call last)",
      "Cell \u001b[1;32mIn[1], line 1\u001b[0m\n\u001b[1;32m----> 1\u001b[0m Number_of_chickens_slaughtered_to_produce_meat \u001b[38;5;241m=\u001b[39m data\u001b[38;5;241m.\u001b[39mgroupby(\u001b[38;5;124m'\u001b[39m\u001b[38;5;124mNumber of chickens slaughtered to produce meat\u001b[39m\u001b[38;5;124m'\u001b[39m)\u001b[38;5;241m.\u001b[39msum()\n\u001b[0;32m      2\u001b[0m Number_of_chickens_slaughtered_to_produce_meat\n",
      "\u001b[1;31mNameError\u001b[0m: name 'data' is not defined"
     ]
    }
   ],
   "source": []
  },
  {
   "cell_type": "code",
   "execution_count": null,
   "id": "63b62634",
   "metadata": {},
   "outputs": [],
   "source": []
  }
 ],
 "metadata": {
  "kernelspec": {
   "display_name": "Python 3 (ipykernel)",
   "language": "python",
   "name": "python3"
  },
  "language_info": {
   "codemirror_mode": {
    "name": "ipython",
    "version": 3
   },
   "file_extension": ".py",
   "mimetype": "text/x-python",
   "name": "python",
   "nbconvert_exporter": "python",
   "pygments_lexer": "ipython3",
   "version": "3.11.4"
  }
 },
 "nbformat": 4,
 "nbformat_minor": 5
}
